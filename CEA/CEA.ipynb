{
  "nbformat": 4,
  "nbformat_minor": 0,
  "metadata": {
    "colab": {
      "provenance": []
    },
    "kernelspec": {
      "name": "python3",
      "display_name": "Python 3"
    },
    "language_info": {
      "name": "python"
    }
  },
  "cells": [
    {
      "cell_type": "code",
      "source": [
        "from google.colab import drive\n",
        "drive.mount('/content/drive')"
      ],
      "metadata": {
        "colab": {
          "base_uri": "https://localhost:8080/"
        },
        "id": "eF0x3FASER-n",
        "outputId": "565f4c2b-0100-4736-b86b-2d259a44994e"
      },
      "execution_count": null,
      "outputs": [
        {
          "output_type": "stream",
          "name": "stdout",
          "text": [
            "Drive already mounted at /content/drive; to attempt to forcibly remount, call drive.mount(\"/content/drive\", force_remount=True).\n"
          ]
        }
      ]
    },
    {
      "cell_type": "code",
      "execution_count": null,
      "metadata": {
        "id": "Sn3kNXRS-KnU"
      },
      "outputs": [],
      "source": [
        "import numpy as np\n",
        "import pandas as pd"
      ]
    },
    {
      "cell_type": "code",
      "source": [
        "inst=int(input('Enter the number of training examples:'))\n",
        "ftr=int(input('Enter the number of features:'))"
      ],
      "metadata": {
        "colab": {
          "base_uri": "https://localhost:8080/"
        },
        "id": "U9DIGxeD-Q8C",
        "outputId": "df5bf419-c0d2-4c83-f701-2c4d2bd92128"
      },
      "execution_count": null,
      "outputs": [
        {
          "name": "stdout",
          "output_type": "stream",
          "text": [
            "Enter the number of training examples:5\n",
            "Enter the number of features:5\n"
          ]
        }
      ]
    },
    {
      "cell_type": "code",
      "source": [
        "fl=[]\n",
        "for i in range(ftr):\n",
        "    f=input('Enter feature {}:'.format(i+1))\n",
        "    fl.append(f)\n",
        "print(fl)"
      ],
      "metadata": {
        "colab": {
          "base_uri": "https://localhost:8080/"
        },
        "id": "7I3XyDaG-XV5",
        "outputId": "960e3d95-97f2-49d6-ec33-ce4a4e3a0298"
      },
      "execution_count": null,
      "outputs": [
        {
          "output_type": "stream",
          "name": "stdout",
          "text": [
            "Enter feature 1:size\n",
            "Enter feature 2:shape\n",
            "Enter feature 3:color\n",
            "Enter feature 4:surface\n",
            "Enter feature 5:thickness\n",
            "['size', 'shape', 'color', 'surface', 'thickness']\n"
          ]
        }
      ]
    },
    {
      "cell_type": "code",
      "source": [
        "L=[]\n",
        "target=[]\n",
        "for i in range(inst):\n",
        "    l=[]\n",
        "    for j in range(ftr):\n",
        "        x=input('Enter {} of example {}: '.format(fl[j],i+1))\n",
        "        l.append(x)\n",
        "    L.append(l)\n",
        "    t=input('Enter target of example {}:'.format(i+1))\n",
        "    target.append(t)\n",
        "print('Training example: \\n',L)\n",
        "print('Target: \\n',target)"
      ],
      "metadata": {
        "colab": {
          "base_uri": "https://localhost:8080/"
        },
        "id": "26Ywbvrl-XSZ",
        "outputId": "b9ecb8b2-07bb-4f9f-ab85-f33b7e62a285"
      },
      "execution_count": null,
      "outputs": [
        {
          "output_type": "stream",
          "name": "stdout",
          "text": [
            "Enter size of example 1: big\n",
            "Enter shape of example 1: circular\n",
            "Enter color of example 1: light\n",
            "Enter surface of example 1: smooth\n",
            "Enter thickness of example 1: thick\n",
            "Enter target of example 1:malignant\n",
            "Enter size of example 2: big\n",
            "Enter shape of example 2: circular\n",
            "Enter color of example 2: light\n",
            "Enter surface of example 2: rough\n",
            "Enter thickness of example 2: thick\n",
            "Enter target of example 2:malignant\n",
            "Enter size of example 3: big\n",
            "Enter shape of example 3: elliptical\n",
            "Enter color of example 3: dark\n",
            "Enter surface of example 3: smooth\n",
            "Enter thickness of example 3: thin\n",
            "Enter target of example 3:benign\n",
            "Enter size of example 4: big\n",
            "Enter shape of example 4: elliptical\n",
            "Enter color of example 4: light\n",
            "Enter surface of example 4: rough\n",
            "Enter thickness of example 4: thick\n",
            "Enter target of example 4:malignant\n",
            "Enter size of example 5: small\n",
            "Enter shape of example 5: circular\n",
            "Enter color of example 5: light\n",
            "Enter surface of example 5: smooth\n",
            "Enter thickness of example 5: thick\n",
            "Enter target of example 5:benign\n",
            "Training example: \n",
            " [['big', 'circular', 'light', 'smooth', 'thick'], ['big', 'circular', 'light', 'rough', 'thick'], ['big', 'elliptical', 'dark', 'smooth', 'thin'], ['big', 'elliptical', 'light', 'rough', 'thick'], ['small', 'circular', 'light', 'smooth', 'thick']]\n",
            "Target: \n",
            " ['malignant', 'malignant', 'benign', 'malignant', 'benign']\n"
          ]
        }
      ]
    },
    {
      "cell_type": "code",
      "source": [
        "L"
      ],
      "metadata": {
        "id": "hdkAQreK1f2k"
      },
      "execution_count": null,
      "outputs": []
    },
    {
      "cell_type": "code",
      "source": [
        "df=pd.DataFrame(L)\n",
        "df['target']=target\n",
        "df"
      ],
      "metadata": {
        "id": "dTzRODOV-zpN"
      },
      "execution_count": null,
      "outputs": []
    },
    {
      "cell_type": "code",
      "source": [
        "df.to_csv('/content/drive/MyDrive/CEA_train.csv')"
      ],
      "metadata": {
        "id": "Ou8JvHQs-__b"
      },
      "execution_count": null,
      "outputs": []
    },
    {
      "cell_type": "code",
      "source": [
        "df=pd.read_csv('/content/drive/MyDrive/CEA_train.csv')\n",
        "df.drop('Unnamed: 0',inplace=True,axis=1)\n",
        "df"
      ],
      "metadata": {
        "colab": {
          "base_uri": "https://localhost:8080/",
          "height": 206
        },
        "id": "_Nxko9DH-XNl",
        "outputId": "745dbc91-d87c-47a9-9657-7f7dc380714b"
      },
      "execution_count": null,
      "outputs": [
        {
          "output_type": "execute_result",
          "data": {
            "text/plain": [
              "       0           1      2       3      4     target\n",
              "0    big    circular  light  smooth  thick  malignant\n",
              "1    big    circular  light   rough  thick  malignant\n",
              "2    big  elliptical   dark  smooth   thin     benign\n",
              "3    big  elliptical  light   rough  thick  malignant\n",
              "4  small    circular  light  smooth  thick     benign"
            ],
            "text/html": [
              "\n",
              "  <div id=\"df-d6e73ded-df1d-4276-a9f6-ff070ce1fdb6\">\n",
              "    <div class=\"colab-df-container\">\n",
              "      <div>\n",
              "<style scoped>\n",
              "    .dataframe tbody tr th:only-of-type {\n",
              "        vertical-align: middle;\n",
              "    }\n",
              "\n",
              "    .dataframe tbody tr th {\n",
              "        vertical-align: top;\n",
              "    }\n",
              "\n",
              "    .dataframe thead th {\n",
              "        text-align: right;\n",
              "    }\n",
              "</style>\n",
              "<table border=\"1\" class=\"dataframe\">\n",
              "  <thead>\n",
              "    <tr style=\"text-align: right;\">\n",
              "      <th></th>\n",
              "      <th>0</th>\n",
              "      <th>1</th>\n",
              "      <th>2</th>\n",
              "      <th>3</th>\n",
              "      <th>4</th>\n",
              "      <th>target</th>\n",
              "    </tr>\n",
              "  </thead>\n",
              "  <tbody>\n",
              "    <tr>\n",
              "      <th>0</th>\n",
              "      <td>big</td>\n",
              "      <td>circular</td>\n",
              "      <td>light</td>\n",
              "      <td>smooth</td>\n",
              "      <td>thick</td>\n",
              "      <td>malignant</td>\n",
              "    </tr>\n",
              "    <tr>\n",
              "      <th>1</th>\n",
              "      <td>big</td>\n",
              "      <td>circular</td>\n",
              "      <td>light</td>\n",
              "      <td>rough</td>\n",
              "      <td>thick</td>\n",
              "      <td>malignant</td>\n",
              "    </tr>\n",
              "    <tr>\n",
              "      <th>2</th>\n",
              "      <td>big</td>\n",
              "      <td>elliptical</td>\n",
              "      <td>dark</td>\n",
              "      <td>smooth</td>\n",
              "      <td>thin</td>\n",
              "      <td>benign</td>\n",
              "    </tr>\n",
              "    <tr>\n",
              "      <th>3</th>\n",
              "      <td>big</td>\n",
              "      <td>elliptical</td>\n",
              "      <td>light</td>\n",
              "      <td>rough</td>\n",
              "      <td>thick</td>\n",
              "      <td>malignant</td>\n",
              "    </tr>\n",
              "    <tr>\n",
              "      <th>4</th>\n",
              "      <td>small</td>\n",
              "      <td>circular</td>\n",
              "      <td>light</td>\n",
              "      <td>smooth</td>\n",
              "      <td>thick</td>\n",
              "      <td>benign</td>\n",
              "    </tr>\n",
              "  </tbody>\n",
              "</table>\n",
              "</div>\n",
              "      <button class=\"colab-df-convert\" onclick=\"convertToInteractive('df-d6e73ded-df1d-4276-a9f6-ff070ce1fdb6')\"\n",
              "              title=\"Convert this dataframe to an interactive table.\"\n",
              "              style=\"display:none;\">\n",
              "        \n",
              "  <svg xmlns=\"http://www.w3.org/2000/svg\" height=\"24px\"viewBox=\"0 0 24 24\"\n",
              "       width=\"24px\">\n",
              "    <path d=\"M0 0h24v24H0V0z\" fill=\"none\"/>\n",
              "    <path d=\"M18.56 5.44l.94 2.06.94-2.06 2.06-.94-2.06-.94-.94-2.06-.94 2.06-2.06.94zm-11 1L8.5 8.5l.94-2.06 2.06-.94-2.06-.94L8.5 2.5l-.94 2.06-2.06.94zm10 10l.94 2.06.94-2.06 2.06-.94-2.06-.94-.94-2.06-.94 2.06-2.06.94z\"/><path d=\"M17.41 7.96l-1.37-1.37c-.4-.4-.92-.59-1.43-.59-.52 0-1.04.2-1.43.59L10.3 9.45l-7.72 7.72c-.78.78-.78 2.05 0 2.83L4 21.41c.39.39.9.59 1.41.59.51 0 1.02-.2 1.41-.59l7.78-7.78 2.81-2.81c.8-.78.8-2.07 0-2.86zM5.41 20L4 18.59l7.72-7.72 1.47 1.35L5.41 20z\"/>\n",
              "  </svg>\n",
              "      </button>\n",
              "      \n",
              "  <style>\n",
              "    .colab-df-container {\n",
              "      display:flex;\n",
              "      flex-wrap:wrap;\n",
              "      gap: 12px;\n",
              "    }\n",
              "\n",
              "    .colab-df-convert {\n",
              "      background-color: #E8F0FE;\n",
              "      border: none;\n",
              "      border-radius: 50%;\n",
              "      cursor: pointer;\n",
              "      display: none;\n",
              "      fill: #1967D2;\n",
              "      height: 32px;\n",
              "      padding: 0 0 0 0;\n",
              "      width: 32px;\n",
              "    }\n",
              "\n",
              "    .colab-df-convert:hover {\n",
              "      background-color: #E2EBFA;\n",
              "      box-shadow: 0px 1px 2px rgba(60, 64, 67, 0.3), 0px 1px 3px 1px rgba(60, 64, 67, 0.15);\n",
              "      fill: #174EA6;\n",
              "    }\n",
              "\n",
              "    [theme=dark] .colab-df-convert {\n",
              "      background-color: #3B4455;\n",
              "      fill: #D2E3FC;\n",
              "    }\n",
              "\n",
              "    [theme=dark] .colab-df-convert:hover {\n",
              "      background-color: #434B5C;\n",
              "      box-shadow: 0px 1px 3px 1px rgba(0, 0, 0, 0.15);\n",
              "      filter: drop-shadow(0px 1px 2px rgba(0, 0, 0, 0.3));\n",
              "      fill: #FFFFFF;\n",
              "    }\n",
              "  </style>\n",
              "\n",
              "      <script>\n",
              "        const buttonEl =\n",
              "          document.querySelector('#df-d6e73ded-df1d-4276-a9f6-ff070ce1fdb6 button.colab-df-convert');\n",
              "        buttonEl.style.display =\n",
              "          google.colab.kernel.accessAllowed ? 'block' : 'none';\n",
              "\n",
              "        async function convertToInteractive(key) {\n",
              "          const element = document.querySelector('#df-d6e73ded-df1d-4276-a9f6-ff070ce1fdb6');\n",
              "          const dataTable =\n",
              "            await google.colab.kernel.invokeFunction('convertToInteractive',\n",
              "                                                     [key], {});\n",
              "          if (!dataTable) return;\n",
              "\n",
              "          const docLinkHtml = 'Like what you see? Visit the ' +\n",
              "            '<a target=\"_blank\" href=https://colab.research.google.com/notebooks/data_table.ipynb>data table notebook</a>'\n",
              "            + ' to learn more about interactive tables.';\n",
              "          element.innerHTML = '';\n",
              "          dataTable['output_type'] = 'display_data';\n",
              "          await google.colab.output.renderOutput(dataTable, element);\n",
              "          const docLink = document.createElement('div');\n",
              "          docLink.innerHTML = docLinkHtml;\n",
              "          element.appendChild(docLink);\n",
              "        }\n",
              "      </script>\n",
              "    </div>\n",
              "  </div>\n",
              "  "
            ]
          },
          "metadata": {},
          "execution_count": 3
        }
      ]
    },
    {
      "cell_type": "code",
      "source": [
        "S=[]\n",
        "for k in range(len(df)):\n",
        "    S.append('N')\n",
        "print('Specific hypothesis: \\n',S)\n",
        "\n",
        "G=[]\n",
        "for k in range(len(df)):\n",
        "    G.append('?')\n",
        "print('General hypothesis: \\n',G)"
      ],
      "metadata": {
        "colab": {
          "base_uri": "https://localhost:8080/"
        },
        "id": "jlsKgpJllhWw",
        "outputId": "1ba92910-4d3b-46e0-8e15-7f1d2497d14e"
      },
      "execution_count": null,
      "outputs": [
        {
          "output_type": "stream",
          "name": "stdout",
          "text": [
            "Specific hypothesis: \n",
            " ['N', 'N', 'N', 'N', 'N']\n",
            "General hypothesis: \n",
            " ['?', '?', '?', '?', '?']\n"
          ]
        }
      ]
    },
    {
      "cell_type": "code",
      "source": [
        "size_unique=list(df['0'].unique())\n",
        "shape_unique=list(df['1'].unique())\n",
        "color_unique=list(df['2'].unique())\n",
        "surface_unique=list(df['3'].unique())\n",
        "thickness_unique=list(df['4'].unique())\n",
        "target_unique=list(df['target'].unique())"
      ],
      "metadata": {
        "id": "SppTEyqDoC_q"
      },
      "execution_count": null,
      "outputs": []
    },
    {
      "cell_type": "code",
      "source": [
        "def other_param(v,a):\n",
        "  i1=a[0]\n",
        "  i2=a[1]\n",
        "  if v==i1:\n",
        "    return i2\n",
        "  else:\n",
        "    return i1"
      ],
      "metadata": {
        "id": "uVn2YR-SvVtr"
      },
      "execution_count": null,
      "outputs": []
    },
    {
      "cell_type": "code",
      "source": [
        "def select_param_list(n):\n",
        "  if n==0:\n",
        "    return size_unique\n",
        "  elif n==1:\n",
        "    return shape_unique\n",
        "  elif n==2:\n",
        "    return color_unique\n",
        "  elif n==3:\n",
        "    return surface_unique\n",
        "  else:\n",
        "    return thickness_unique"
      ],
      "metadata": {
        "id": "JF2lTxQh0YpT"
      },
      "execution_count": null,
      "outputs": []
    },
    {
      "cell_type": "code",
      "source": [
        "def count(lst, x):\n",
        "    count = 0\n",
        "    for ele in lst:\n",
        "        if (ele == x):\n",
        "            count = count + 1\n",
        "    return count"
      ],
      "metadata": {
        "id": "k2iHIvJUJNuR"
      },
      "execution_count": null,
      "outputs": []
    },
    {
      "cell_type": "code",
      "source": [
        "L=df.values.tolist()\n",
        "L"
      ],
      "metadata": {
        "colab": {
          "base_uri": "https://localhost:8080/"
        },
        "id": "tHd_8FzQy1Q6",
        "outputId": "8d8dc9c0-4673-4ccc-a339-1ee9d5c1fd35"
      },
      "execution_count": null,
      "outputs": [
        {
          "output_type": "execute_result",
          "data": {
            "text/plain": [
              "[['big', 'circular', 'light', 'smooth', 'thick', 'malignant'],\n",
              " ['big', 'circular', 'light', 'rough', 'thick', 'malignant'],\n",
              " ['big', 'elliptical', 'dark', 'smooth', 'thin', 'benign'],\n",
              " ['big', 'elliptical', 'light', 'rough', 'thick', 'malignant'],\n",
              " ['small', 'circular', 'light', 'smooth', 'thick', 'benign']]"
            ]
          },
          "metadata": {},
          "execution_count": 9
        }
      ]
    },
    {
      "cell_type": "code",
      "source": [
        "target=[]\n",
        "for i,inp in enumerate(L):\n",
        "  target.append(inp[-1])\n",
        "  inp.pop()\n",
        "print('Training data\\n',L)\n",
        "print('Target\\n',target)\n"
      ],
      "metadata": {
        "colab": {
          "base_uri": "https://localhost:8080/"
        },
        "id": "5hlRWUHizBsQ",
        "outputId": "aecce45d-0f05-4d04-88d2-714f2bf70cfe"
      },
      "execution_count": null,
      "outputs": [
        {
          "output_type": "stream",
          "name": "stdout",
          "text": [
            "Training data\n",
            " [['big', 'circular', 'light', 'smooth', 'thick'], ['big', 'circular', 'light', 'rough', 'thick'], ['big', 'elliptical', 'dark', 'smooth', 'thin'], ['big', 'elliptical', 'light', 'rough', 'thick'], ['small', 'circular', 'light', 'smooth', 'thick']]\n",
            "Target\n",
            " ['malignant', 'malignant', 'benign', 'malignant', 'benign']\n"
          ]
        }
      ]
    },
    {
      "cell_type": "code",
      "source": [
        "G_fnl=[]\n",
        "S_fnl=[]\n",
        "for i,inp in enumerate(L):\n",
        "    if target[i]=='malignant':\n",
        "        if i==0:\n",
        "            G_fnl.append(G)\n",
        "            S_fnl.append(inp)\n",
        "        else:\n",
        "            gm=[]\n",
        "            for i,inp1 in enumerate(G_fnl):\n",
        "              gm.append(inp1)\n",
        "            G_fnl.clear()\n",
        "            if gm[-1]==G:\n",
        "              G_fnl.append(G)\n",
        "            else:\n",
        "              for i in range(len(gm)):\n",
        "                for j in range(len(gm[-1])):\n",
        "                  if gm[i][j]==inp[j]:\n",
        "                    G_fnl.append(gm[i])\n",
        "                  else:\n",
        "                    continue\n",
        "\n",
        "            s=S_fnl[-1].copy()\n",
        "            for i,j in enumerate(inp):\n",
        "                if s[i]==j:\n",
        "                    continue\n",
        "                else:\n",
        "                    s[i]='?'\n",
        "            S_fnl.append(s)\n",
        "    else:\n",
        "        s=S_fnl[-1].copy()\n",
        "        for i,j in enumerate(s):\n",
        "            if s[i]!=j:\n",
        "                break\n",
        "        S_fnl.append(s)\n",
        "        gn=[]\n",
        "        for i,inp1 in enumerate(G_fnl):\n",
        "          gn.append(inp1)\n",
        "        G_fnl.clear()\n",
        "        \n",
        "        if gn[-1]==G:\n",
        "          g_temp1=[]\n",
        "          for j in range(len(gn[-1])):\n",
        "            g1=[]\n",
        "            for k in range(len(gn[-1])):\n",
        "              if j==k:\n",
        "                p=other_param(inp[k],select_param_list(k))\n",
        "                g1.append(p)\n",
        "              else:\n",
        "               g1.append(gn[-1][k])\n",
        "            g_temp1.append(g1)\n",
        "          for i,inp in enumerate(g_temp1):\n",
        "            if inp[i]==S_fnl[-1][i]:\n",
        "              G_fnl.append(inp)\n",
        "            else:\n",
        "              continue\n",
        "        else:\n",
        "          g_temp2=[]\n",
        "          for h in range(len(gn)):\n",
        "            for k in range(len(gn[h])):\n",
        "              if gn[h][k]=='?':\n",
        "                gnt=gn[h].copy()\n",
        "                q=other_param(inp[k],select_param_list(k))\n",
        "                gnt[k]=q\n",
        "                g_temp2.append(gnt)\n",
        "              else:\n",
        "                continue\n",
        "          for n,inp in enumerate(g_temp2):\n",
        "            a=0\n",
        "            for m in range(len(inp)):\n",
        "              if inp[m]==S_fnl[-1][m] or inp[m]=='?':\n",
        "                a=a+1\n",
        "              else:\n",
        "                continue\n",
        "            if a==len(inp):\n",
        "              G_fnl.append(inp)\n",
        "            else:\n",
        "              continue\n"
      ],
      "metadata": {
        "id": "vo_dLrQ7EA68"
      },
      "execution_count": null,
      "outputs": []
    },
    {
      "cell_type": "code",
      "source": [
        "S_fnl"
      ],
      "metadata": {
        "colab": {
          "base_uri": "https://localhost:8080/"
        },
        "id": "YGUoRvUAEsLY",
        "outputId": "43cdd526-77cd-4d05-9c10-d08c03d2d206"
      },
      "execution_count": null,
      "outputs": [
        {
          "output_type": "execute_result",
          "data": {
            "text/plain": [
              "[['big', 'circular', 'light', 'smooth', 'thick'],\n",
              " ['big', 'circular', 'light', '?', 'thick'],\n",
              " ['big', 'circular', 'light', '?', 'thick'],\n",
              " ['big', '?', 'light', '?', 'thick'],\n",
              " ['big', '?', 'light', '?', 'thick']]"
            ]
          },
          "metadata": {},
          "execution_count": 14
        }
      ]
    },
    {
      "cell_type": "code",
      "source": [
        "G_fnl"
      ],
      "metadata": {
        "colab": {
          "base_uri": "https://localhost:8080/"
        },
        "id": "HTBs2uj1Euth",
        "outputId": "91996b4d-f982-4bd9-bb4d-7d45c60cd507"
      },
      "execution_count": null,
      "outputs": [
        {
          "output_type": "execute_result",
          "data": {
            "text/plain": [
              "[['big', '?', 'light', '?', '?'], ['big', '?', '?', '?', 'thick']]"
            ]
          },
          "metadata": {},
          "execution_count": 38
        }
      ]
    },
    {
      "cell_type": "code",
      "source": [
        "vsp=[]\n",
        "vsp.append(S_fnl[-1])\n",
        "for i,inp in enumerate(G_fnl):\n",
        "  vsp.append(inp)\n",
        "print('The Version space:\\n',vsp)"
      ],
      "metadata": {
        "colab": {
          "base_uri": "https://localhost:8080/"
        },
        "id": "ROmUMnulDRfZ",
        "outputId": "2b93bf4f-5a54-4ea7-d178-816fe4e108c6"
      },
      "execution_count": null,
      "outputs": [
        {
          "output_type": "stream",
          "name": "stdout",
          "text": [
            "The Version space:\n",
            " [['big', '?', 'light', '?', 'thick'], ['big', '?', 'light', '?', '?'], ['big', '?', '?', '?', 'thick']]\n"
          ]
        }
      ]
    },
    {
      "cell_type": "code",
      "source": [
        "#checking \n",
        "result=[]\n",
        "vs=vsp[0]\n",
        "for i,inp in enumerate(L):\n",
        "  t=target[i]\n",
        "  for j in range(len(inp)):\n",
        "    if vs[j]=='?':\n",
        "      continue\n",
        "    else:\n",
        "      if inp[j]!=vs[j]:\n",
        "        result.append('benign')\n",
        "      else:\n",
        "        result.append('malignant')"
      ],
      "metadata": {
        "colab": {
          "base_uri": "https://localhost:8080/"
        },
        "id": "UCxM-t9rFyCf",
        "outputId": "5cc57bfb-91cc-453f-8c5a-0bf466c33bd0"
      },
      "execution_count": null,
      "outputs": [
        {
          "output_type": "execute_result",
          "data": {
            "text/plain": [
              "['malignant',\n",
              " 'benign',\n",
              " 'malignant',\n",
              " 'benign',\n",
              " 'malignant',\n",
              " 'malignant',\n",
              " 'benign',\n",
              " 'malignant',\n",
              " 'benign',\n",
              " 'malignant',\n",
              " 'malignant',\n",
              " 'benign',\n",
              " 'benign',\n",
              " 'benign',\n",
              " 'benign',\n",
              " 'malignant',\n",
              " 'benign',\n",
              " 'malignant',\n",
              " 'benign',\n",
              " 'malignant',\n",
              " 'benign',\n",
              " 'benign',\n",
              " 'malignant',\n",
              " 'benign',\n",
              " 'malignant']"
            ]
          },
          "metadata": {},
          "execution_count": 41
        }
      ]
    },
    {
      "cell_type": "code",
      "source": [
        "#TO CONVERT DATAFRAME TO LIST OF LISTS\n",
        "L=df.values.tolist()\n",
        "L"
      ],
      "metadata": {
        "colab": {
          "base_uri": "https://localhost:8080/"
        },
        "id": "A6c5QQZVyBOj",
        "outputId": "431c97e9-52b8-4194-f399-a7297da7a8d1"
      },
      "execution_count": null,
      "outputs": [
        {
          "output_type": "execute_result",
          "data": {
            "text/plain": [
              "[['big', 'circular', 'light', 'smooth', 'thick', 'malignant'],\n",
              " ['big', 'circular', 'light', 'rough', 'thick', 'malignant'],\n",
              " ['big', 'elliptical', 'dark', 'smooth', 'thin', 'benign'],\n",
              " ['big', 'elliptical', 'light', 'rough', 'thick', 'malignant'],\n",
              " ['small', 'circular', 'light', 'smooth', 'thick', 'benign']]"
            ]
          },
          "metadata": {},
          "execution_count": 43
        }
      ]
    },
    {
      "cell_type": "code",
      "source": [],
      "metadata": {
        "id": "oHuT4by-yFM6"
      },
      "execution_count": null,
      "outputs": []
    }
  ]
}